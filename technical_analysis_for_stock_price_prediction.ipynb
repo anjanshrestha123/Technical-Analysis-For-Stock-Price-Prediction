{
  "nbformat": 4,
  "nbformat_minor": 0,
  "metadata": {
    "kernelspec": {
      "display_name": "Python 3 (ipykernel)",
      "language": "python",
      "name": "python3"
    },
    "language_info": {
      "codemirror_mode": {
        "name": "ipython",
        "version": 3
      },
      "file_extension": ".py",
      "mimetype": "text/x-python",
      "name": "python",
      "nbconvert_exporter": "python",
      "pygments_lexer": "ipython3",
      "version": "3.8.8"
    },
    "colab": {
      "name": "technical_analysis_for_stock_price_prediction.ipynb",
      "provenance": [],
      "collapsed_sections": [
        "paH53o2l0mxu",
        "6pcMPECE8UsG",
        "P_Pq0YrFWiGR"
      ],
      "toc_visible": true,
      "include_colab_link": true
    }
  },
  "cells": [
    {
      "cell_type": "markdown",
      "metadata": {
        "id": "view-in-github",
        "colab_type": "text"
      },
      "source": [
        "<a href=\"https://colab.research.google.com/github/anjanshrestha123/Technical-Analysis-For-Stock-Price-Prediction/blob/master/technical_analysis_for_stock_price_prediction.ipynb\" target=\"_parent\"><img src=\"https://colab.research.google.com/assets/colab-badge.svg\" alt=\"Open In Colab\"/></a>"
      ]
    },
    {
      "cell_type": "markdown",
      "metadata": {
        "id": "ugEzjcGDWiGB"
      },
      "source": [
        "# Technical Analysis for Stock Price Prediction #\n",
        "\n",
        "\n",
        "Reference (Citation): https://github.com/krishnaik06/Stock-MArket-Forecasting"
      ]
    },
    {
      "cell_type": "markdown",
      "metadata": {
        "id": "SDwgSyOavxyB"
      },
      "source": [
        "**Todo:**\n",
        "1. Create different models and compare accuracy\n",
        "2. Cross validation and hyperparameter tuning\n",
        "4. Predict Trend\n",
        "5. Format Code"
      ]
    },
    {
      "cell_type": "markdown",
      "metadata": {
        "tags": [],
        "id": "hu2FrTURWiGF"
      },
      "source": [
        "###Import and Packages###"
      ]
    },
    {
      "cell_type": "code",
      "metadata": {
        "colab": {
          "base_uri": "https://localhost:8080/"
        },
        "id": "1Pp5y4R9WiGF",
        "outputId": "33188a07-1e2e-4d0b-bfe7-8c804fb2275d"
      },
      "source": [
        "# For dealing with dataframe\n",
        "import pandas as pd\n",
        "\n",
        "# For dealing with np array\n",
        "import numpy as np\n",
        "\n",
        "# For calling yahoo finance to get stock price \n",
        "import pandas_datareader as pdr\n",
        "import datetime as dt\n",
        "from datetime import timedelta\n",
        "\n",
        "# For plotting\n",
        "import matplotlib.pyplot as plt\n",
        "\n",
        "# For model\n",
        "import math\n",
        "from sklearn.preprocessing import MinMaxScaler\n",
        "from tensorflow.keras.models import Sequential\n",
        "from tensorflow.keras.layers import Dense\n",
        "from tensorflow.keras.layers import LSTM\n",
        "from sklearn.metrics import mean_squared_error\n",
        "from sklearn.linear_model import LinearRegression\n",
        "from sklearn.tree import DecisionTreeRegressor\n",
        "from sklearn.neighbors import KNeighborsRegressor\n",
        "from sklearn.metrics import plot_confusion_matrix\n",
        "\n",
        "# For upgrading pandas datareader module\n",
        "!pip install --upgrade pandas_datareader"
      ],
      "execution_count": 1,
      "outputs": [
        {
          "output_type": "stream",
          "name": "stdout",
          "text": [
            "Requirement already satisfied: pandas_datareader in /usr/local/lib/python3.7/dist-packages (0.10.0)\n",
            "Requirement already satisfied: requests>=2.19.0 in /usr/local/lib/python3.7/dist-packages (from pandas_datareader) (2.23.0)\n",
            "Requirement already satisfied: lxml in /usr/local/lib/python3.7/dist-packages (from pandas_datareader) (4.2.6)\n",
            "Requirement already satisfied: pandas>=0.23 in /usr/local/lib/python3.7/dist-packages (from pandas_datareader) (1.1.5)\n",
            "Requirement already satisfied: python-dateutil>=2.7.3 in /usr/local/lib/python3.7/dist-packages (from pandas>=0.23->pandas_datareader) (2.8.2)\n",
            "Requirement already satisfied: pytz>=2017.2 in /usr/local/lib/python3.7/dist-packages (from pandas>=0.23->pandas_datareader) (2018.9)\n",
            "Requirement already satisfied: numpy>=1.15.4 in /usr/local/lib/python3.7/dist-packages (from pandas>=0.23->pandas_datareader) (1.19.5)\n",
            "Requirement already satisfied: six>=1.5 in /usr/local/lib/python3.7/dist-packages (from python-dateutil>=2.7.3->pandas>=0.23->pandas_datareader) (1.15.0)\n",
            "Requirement already satisfied: chardet<4,>=3.0.2 in /usr/local/lib/python3.7/dist-packages (from requests>=2.19.0->pandas_datareader) (3.0.4)\n",
            "Requirement already satisfied: urllib3!=1.25.0,!=1.25.1,<1.26,>=1.21.1 in /usr/local/lib/python3.7/dist-packages (from requests>=2.19.0->pandas_datareader) (1.24.3)\n",
            "Requirement already satisfied: certifi>=2017.4.17 in /usr/local/lib/python3.7/dist-packages (from requests>=2.19.0->pandas_datareader) (2021.10.8)\n",
            "Requirement already satisfied: idna<3,>=2.5 in /usr/local/lib/python3.7/dist-packages (from requests>=2.19.0->pandas_datareader) (2.10)\n"
          ]
        }
      ]
    },
    {
      "cell_type": "markdown",
      "metadata": {
        "id": "IBmRdGxvvccA"
      },
      "source": [
        "### Model Properties ###"
      ]
    },
    {
      "cell_type": "code",
      "metadata": {
        "id": "skV3nY6pv-kA"
      },
      "source": [
        "# Yahoo Finance API Properties\n",
        "NUMBER_OF_YEARS_TO_FETCH_PRICE_DATA = 30\n",
        "\n",
        "# Dataset Properties\n",
        "DATE = 'Date'\n",
        "CLOSE = 'Close'\n",
        "VOLUME = 'Volume'\n",
        "\n",
        "# Stock Properties \n",
        "STOCK_TICKER = 'TSLA' # Stock ticker name to run the model\n",
        "\n",
        "# Hyperparameters\n",
        "NUMBER_OF_DAYS_FOR_PRICE_PREDICTION = 100\n",
        "NUMBER_OF_DAYS_TO_PREDICT = 10\n",
        "NUMBER_OF_EPOCHS = 25"
      ],
      "execution_count": 2,
      "outputs": []
    },
    {
      "cell_type": "markdown",
      "metadata": {
        "tags": [],
        "id": "A1R9zQJgWiGH"
      },
      "source": [
        "##  1. Extract Raw data and Dataset Creation ##\n",
        "Calling Yahoo Finance API to extract data for last 7 years from current date and convert it to dataframe"
      ]
    },
    {
      "cell_type": "code",
      "metadata": {
        "id": "FHpyMSK1WiGH"
      },
      "source": [
        "# Getting start and end date for stock data\n",
        "end_date = dt.date.today()\n",
        "start_date = end_date - timedelta(days=NUMBER_OF_YEARS_TO_FETCH_PRICE_DATA * 365)  # Getting start date as last 'n' number of years from now\n",
        "\n",
        "# Calling Yahoo Finance API for last 7 years of stock data \n",
        "df = pdr.get_data_yahoo(STOCK_TICKER, start = start_date, end = end_date)"
      ],
      "execution_count": 3,
      "outputs": []
    },
    {
      "cell_type": "code",
      "metadata": {
        "id": "2cr5-MD7WiGK",
        "colab": {
          "base_uri": "https://localhost:8080/",
          "height": 440
        },
        "outputId": "5a2f749e-9049-4af1-cdb7-05aa87530fda"
      },
      "source": [
        "# Visualizing Dataset\n",
        "df"
      ],
      "execution_count": 4,
      "outputs": [
        {
          "output_type": "execute_result",
          "data": {
            "text/html": [
              "<div>\n",
              "<style scoped>\n",
              "    .dataframe tbody tr th:only-of-type {\n",
              "        vertical-align: middle;\n",
              "    }\n",
              "\n",
              "    .dataframe tbody tr th {\n",
              "        vertical-align: top;\n",
              "    }\n",
              "\n",
              "    .dataframe thead th {\n",
              "        text-align: right;\n",
              "    }\n",
              "</style>\n",
              "<table border=\"1\" class=\"dataframe\">\n",
              "  <thead>\n",
              "    <tr style=\"text-align: right;\">\n",
              "      <th></th>\n",
              "      <th>High</th>\n",
              "      <th>Low</th>\n",
              "      <th>Open</th>\n",
              "      <th>Close</th>\n",
              "      <th>Volume</th>\n",
              "      <th>Adj Close</th>\n",
              "    </tr>\n",
              "    <tr>\n",
              "      <th>Date</th>\n",
              "      <th></th>\n",
              "      <th></th>\n",
              "      <th></th>\n",
              "      <th></th>\n",
              "      <th></th>\n",
              "      <th></th>\n",
              "    </tr>\n",
              "  </thead>\n",
              "  <tbody>\n",
              "    <tr>\n",
              "      <th>2010-06-29</th>\n",
              "      <td>5.000000</td>\n",
              "      <td>3.508000</td>\n",
              "      <td>3.800000</td>\n",
              "      <td>4.778000</td>\n",
              "      <td>93831500.0</td>\n",
              "      <td>4.778000</td>\n",
              "    </tr>\n",
              "    <tr>\n",
              "      <th>2010-06-30</th>\n",
              "      <td>6.084000</td>\n",
              "      <td>4.660000</td>\n",
              "      <td>5.158000</td>\n",
              "      <td>4.766000</td>\n",
              "      <td>85935500.0</td>\n",
              "      <td>4.766000</td>\n",
              "    </tr>\n",
              "    <tr>\n",
              "      <th>2010-07-01</th>\n",
              "      <td>5.184000</td>\n",
              "      <td>4.054000</td>\n",
              "      <td>5.000000</td>\n",
              "      <td>4.392000</td>\n",
              "      <td>41094000.0</td>\n",
              "      <td>4.392000</td>\n",
              "    </tr>\n",
              "    <tr>\n",
              "      <th>2010-07-02</th>\n",
              "      <td>4.620000</td>\n",
              "      <td>3.742000</td>\n",
              "      <td>4.600000</td>\n",
              "      <td>3.840000</td>\n",
              "      <td>25699000.0</td>\n",
              "      <td>3.840000</td>\n",
              "    </tr>\n",
              "    <tr>\n",
              "      <th>2010-07-06</th>\n",
              "      <td>4.000000</td>\n",
              "      <td>3.166000</td>\n",
              "      <td>4.000000</td>\n",
              "      <td>3.222000</td>\n",
              "      <td>34334500.0</td>\n",
              "      <td>3.222000</td>\n",
              "    </tr>\n",
              "    <tr>\n",
              "      <th>...</th>\n",
              "      <td>...</td>\n",
              "      <td>...</td>\n",
              "      <td>...</td>\n",
              "      <td>...</td>\n",
              "      <td>...</td>\n",
              "      <td>...</td>\n",
              "    </tr>\n",
              "    <tr>\n",
              "      <th>2021-11-10</th>\n",
              "      <td>1078.099976</td>\n",
              "      <td>987.309998</td>\n",
              "      <td>1010.409973</td>\n",
              "      <td>1067.949951</td>\n",
              "      <td>42802700.0</td>\n",
              "      <td>1067.949951</td>\n",
              "    </tr>\n",
              "    <tr>\n",
              "      <th>2021-11-11</th>\n",
              "      <td>1104.969971</td>\n",
              "      <td>1054.680054</td>\n",
              "      <td>1102.770020</td>\n",
              "      <td>1063.510010</td>\n",
              "      <td>22396600.0</td>\n",
              "      <td>1063.510010</td>\n",
              "    </tr>\n",
              "    <tr>\n",
              "      <th>2021-11-12</th>\n",
              "      <td>1054.500000</td>\n",
              "      <td>1019.200012</td>\n",
              "      <td>1047.500000</td>\n",
              "      <td>1033.420044</td>\n",
              "      <td>25182300.0</td>\n",
              "      <td>1033.420044</td>\n",
              "    </tr>\n",
              "    <tr>\n",
              "      <th>2021-11-15</th>\n",
              "      <td>1031.979980</td>\n",
              "      <td>978.599976</td>\n",
              "      <td>1017.630005</td>\n",
              "      <td>1013.390015</td>\n",
              "      <td>34775600.0</td>\n",
              "      <td>1013.390015</td>\n",
              "    </tr>\n",
              "    <tr>\n",
              "      <th>2021-11-16</th>\n",
              "      <td>1057.199951</td>\n",
              "      <td>1002.179993</td>\n",
              "      <td>1003.309998</td>\n",
              "      <td>1054.729980</td>\n",
              "      <td>26305400.0</td>\n",
              "      <td>1054.729980</td>\n",
              "    </tr>\n",
              "  </tbody>\n",
              "</table>\n",
              "<p>2868 rows × 6 columns</p>\n",
              "</div>"
            ],
            "text/plain": [
              "                   High          Low  ...      Volume    Adj Close\n",
              "Date                                  ...                         \n",
              "2010-06-29     5.000000     3.508000  ...  93831500.0     4.778000\n",
              "2010-06-30     6.084000     4.660000  ...  85935500.0     4.766000\n",
              "2010-07-01     5.184000     4.054000  ...  41094000.0     4.392000\n",
              "2010-07-02     4.620000     3.742000  ...  25699000.0     3.840000\n",
              "2010-07-06     4.000000     3.166000  ...  34334500.0     3.222000\n",
              "...                 ...          ...  ...         ...          ...\n",
              "2021-11-10  1078.099976   987.309998  ...  42802700.0  1067.949951\n",
              "2021-11-11  1104.969971  1054.680054  ...  22396600.0  1063.510010\n",
              "2021-11-12  1054.500000  1019.200012  ...  25182300.0  1033.420044\n",
              "2021-11-15  1031.979980   978.599976  ...  34775600.0  1013.390015\n",
              "2021-11-16  1057.199951  1002.179993  ...  26305400.0  1054.729980\n",
              "\n",
              "[2868 rows x 6 columns]"
            ]
          },
          "metadata": {},
          "execution_count": 4
        }
      ]
    },
    {
      "cell_type": "code",
      "metadata": {
        "id": "zJfJ-3Xj23Jo",
        "colab": {
          "base_uri": "https://localhost:8080/"
        },
        "outputId": "4bab0918-17aa-47cd-ece6-9b0a462535b7"
      },
      "source": [
        "# Visualizing the shape of Dataset\n",
        "df.shape"
      ],
      "execution_count": 5,
      "outputs": [
        {
          "output_type": "execute_result",
          "data": {
            "text/plain": [
              "(2868, 6)"
            ]
          },
          "metadata": {},
          "execution_count": 5
        }
      ]
    },
    {
      "cell_type": "markdown",
      "metadata": {
        "id": "enQKrnCPy-B-"
      },
      "source": [
        "## 2. Exploratory Data Analysis"
      ]
    },
    {
      "cell_type": "code",
      "metadata": {
        "id": "uwkCH-rOWiGL",
        "colab": {
          "base_uri": "https://localhost:8080/",
          "height": 578
        },
        "outputId": "e2fe0944-a037-4740-ea01-0952d793e3be"
      },
      "source": [
        "# Plotting the graph visualizing price change with date\n",
        "df.plot(y=[CLOSE],figsize=(15,10), ylabel='Stock Price')"
      ],
      "execution_count": 6,
      "outputs": [
        {
          "output_type": "execute_result",
          "data": {
            "text/plain": [
              "<matplotlib.axes._subplots.AxesSubplot at 0x7fbca51b80d0>"
            ]
          },
          "metadata": {},
          "execution_count": 6
        },
        {
          "output_type": "display_data",
          "data": {
            "image/png": "[encoded data removed]",
            "text/plain": [
              "<Figure size 1080x720 with 1 Axes>"
            ]
          },
          "metadata": {
            "needs_background": "light"
          }
        }
      ]
    },
    {
      "cell_type": "markdown",
      "metadata": {
        "id": "48IzLP-D2i4d"
      },
      "source": [
        "## 3. Feature Engineering ##"
      ]
    },
    {
      "cell_type": "code",
      "metadata": {
        "id": "rFq26cgE3PVh",
        "colab": {
          "base_uri": "https://localhost:8080/"
        },
        "outputId": "d3e7b56e-0599-479f-f7c3-d9a52566652a"
      },
      "source": [
        "# Extracting Stock Closing Price as a Feature from Dataframe\n",
        "model_df = df.reset_index()[CLOSE]\n",
        "model_df"
      ],
      "execution_count": 7,
      "outputs": [
        {
          "output_type": "execute_result",
          "data": {
            "text/plain": [
              "0          4.778000\n",
              "1          4.766000\n",
              "2          4.392000\n",
              "3          3.840000\n",
              "4          3.222000\n",
              "           ...     \n",
              "2863    1067.949951\n",
              "2864    1063.510010\n",
              "2865    1033.420044\n",
              "2866    1013.390015\n",
              "2867    1054.729980\n",
              "Name: Close, Length: 2868, dtype: float64"
            ]
          },
          "metadata": {},
          "execution_count": 7
        }
      ]
    },
    {
      "cell_type": "markdown",
      "metadata": {
        "id": "_SWL5fhk2zWo"
      },
      "source": [
        "## 4. Split Data into Train and Test ##"
      ]
    },
    {
      "cell_type": "markdown",
      "metadata": {
        "id": "paH53o2l0mxu"
      },
      "source": [
        "#### A. Split Data for LSTM Model ####"
      ]
    },
    {
      "cell_type": "code",
      "metadata": {
        "id": "jbDxyb0o4708",
        "colab": {
          "base_uri": "https://localhost:8080/"
        },
        "outputId": "d0866214-6fea-43fb-e691-f2f5349585ee"
      },
      "source": [
        "# Tranforming value to 0-1 since lstm are sensitive to the scale of the data\n",
        "scaler = MinMaxScaler(feature_range=(0,1))\n",
        "model_df_lstm = scaler.fit_transform(np.array(model_df).reshape(-1,1))\n",
        "model_df_lstm"
      ],
      "execution_count": 8,
      "outputs": [
        {
          "output_type": "execute_result",
          "data": {
            "text/plain": [
              "array([[0.00131893],\n",
              "       [0.00130915],\n",
              "       [0.00100428],\n",
              "       ...,\n",
              "       [0.83982883],\n",
              "       [0.82350111],\n",
              "       [0.85719988]])"
            ]
          },
          "metadata": {},
          "execution_count": 8
        }
      ]
    },
    {
      "cell_type": "code",
      "metadata": {
        "id": "QtGMRMIPWiGN",
        "colab": {
          "base_uri": "https://localhost:8080/"
        },
        "outputId": "7843a52d-d6c2-4964-f956-4dba42759f30"
      },
      "source": [
        "# Split the first 70% of data to training set and last 30% to testing set since our dataset is time-series data\n",
        "train_index_lstm = 0.7 * model_df_lstm.shape[0]\n",
        "train_data_lstm = model_df_lstm[:int(train_index_lstm)]\n",
        "test_data_lstm = model_df_lstm[int(train_index_lstm):]\n",
        "test_data_lstm"
      ],
      "execution_count": 9,
      "outputs": [
        {
          "output_type": "execute_result",
          "data": {
            "text/plain": [
              "array([[0.05490116],\n",
              "       [0.05647768],\n",
              "       [0.05407948],\n",
              "       [0.05181659],\n",
              "       [0.0517155 ],\n",
              "       [0.05318117],\n",
              "       [0.05358875],\n",
              "       [0.05447402],\n",
              "       [0.05333605],\n",
              "       [0.05205135],\n",
              "       [0.04810434],\n",
              "       [0.04782718],\n",
              "       [0.04778479],\n",
              "       [0.04935154],\n",
              "       [0.04999715],\n",
              "       [0.0494249 ],\n",
              "       [0.04905808],\n",
              "       [0.04941023],\n",
              "       [0.04798044],\n",
              "       [0.05003301],\n",
              "       [0.05022213],\n",
              "       [0.04963195],\n",
              "       [0.04854779],\n",
              "       [0.04685551],\n",
              "       [0.04591481],\n",
              "       [0.04775871],\n",
              "       [0.04741797],\n",
              "       [0.04587406],\n",
              "       [0.0447312 ],\n",
              "       [0.04603057],\n",
              "       [0.04647075],\n",
              "       [0.05441043],\n",
              "       [0.05418708],\n",
              "       [0.05317954],\n",
              "       [0.0593063 ],\n",
              "       [0.05780151],\n",
              "       [0.05488486],\n",
              "       [0.05538047],\n",
              "       [0.05553046],\n",
              "       [0.05410067],\n",
              "       [0.05264153],\n",
              "       [0.0521133 ],\n",
              "       [0.04723048],\n",
              "       [0.0477098 ],\n",
              "       [0.04990421],\n",
              "       [0.04986183],\n",
              "       [0.04961076],\n",
              "       [0.05005421],\n",
              "       [0.04947544],\n",
              "       [0.04826737],\n",
              "       [0.0471506 ],\n",
              "       [0.04684736],\n",
              "       [0.04660444],\n",
              "       [0.0445323 ],\n",
              "       [0.0431938 ],\n",
              "       [0.04322804],\n",
              "       [0.04034074],\n",
              "       [0.04396984],\n",
              "       [0.04298186],\n",
              "       [0.04479152],\n",
              "       [0.04461544],\n",
              "       [0.04555125],\n",
              "       [0.04549256],\n",
              "       [0.0438818 ],\n",
              "       [0.04617404],\n",
              "       [0.04606154],\n",
              "       [0.04618708],\n",
              "       [0.04628164],\n",
              "       [0.04649521],\n",
              "       [0.04789566],\n",
              "       [0.04755981],\n",
              "       [0.04059017],\n",
              "       [0.04807825],\n",
              "       [0.0465001 ],\n",
              "       [0.04548604],\n",
              "       [0.04337151],\n",
              "       [0.04013042],\n",
              "       [0.03827349],\n",
              "       [0.040269  ],\n",
              "       [0.03930385],\n",
              "       [0.03854575],\n",
              "       [0.03961361],\n",
              "       [0.03974567],\n",
              "       [0.04251722],\n",
              "       [0.04173303],\n",
              "       [0.04044997],\n",
              "       [0.03981251],\n",
              "       [0.03996739],\n",
              "       [0.04537844],\n",
              "       [0.04445894],\n",
              "       [0.04875647],\n",
              "       [0.05137151],\n",
              "       [0.05201549],\n",
              "       [0.05120848],\n",
              "       [0.05241817],\n",
              "       [0.05355288],\n",
              "       [0.05390014],\n",
              "       [0.05308335],\n",
              "       [0.05302792],\n",
              "       [0.05418545],\n",
              "       [0.05471367],\n",
              "       [0.05456857],\n",
              "       [0.05143346],\n",
              "       [0.05264805],\n",
              "       [0.05350724],\n",
              "       [0.0542311 ],\n",
              "       [0.0551881 ],\n",
              "       [0.05505115],\n",
              "       [0.05407622],\n",
              "       [0.05256002],\n",
              "       [0.05054493],\n",
              "       [0.0538333 ],\n",
              "       [0.05349419],\n",
              "       [0.05413817],\n",
              "       [0.05304585],\n",
              "       [0.05456368],\n",
              "       [0.05586957],\n",
              "       [0.05606684],\n",
              "       [0.05661463],\n",
              "       [0.0557848 ],\n",
              "       [0.05695537],\n",
              "       [0.05721785],\n",
              "       [0.05719176],\n",
              "       [0.05885307],\n",
              "       [0.05704666],\n",
              "       [0.05422783],\n",
              "       [0.0523709 ],\n",
              "       [0.05170899],\n",
              "       [0.04884125],\n",
              "       [0.04955696],\n",
              "       [0.04558223],\n",
              "       [0.05058732],\n",
              "       [0.04896352],\n",
              "       [0.05185572],\n",
              "       [0.05168127],\n",
              "       [0.04798369],\n",
              "       [0.0463925 ],\n",
              "       [0.04921785],\n",
              "       [0.05203342],\n",
              "       [0.052097  ],\n",
              "       [0.05261545],\n",
              "       [0.05366538],\n",
              "       [0.05403872],\n",
              "       [0.05194212],\n",
              "       [0.05357734],\n",
              "       [0.05384145],\n",
              "       [0.05404687],\n",
              "       [0.04670226],\n",
              "       [0.04615773],\n",
              "       [0.04431058],\n",
              "       [0.04494966],\n",
              "       [0.04585123],\n",
              "       [0.04574363],\n",
              "       [0.04591971],\n",
              "       [0.0477636 ],\n",
              "       [0.04747829],\n",
              "       [0.04832443],\n",
              "       [0.04843529],\n",
              "       [0.04981455],\n",
              "       [0.04914123],\n",
              "       [0.04755818],\n",
              "       [0.0472794 ],\n",
              "       [0.04842714],\n",
              "       [0.04825922],\n",
              "       [0.04766578],\n",
              "       [0.04694844],\n",
              "       [0.0476185 ],\n",
              "       [0.04725331],\n",
              "       [0.04675117],\n",
              "       [0.04490401],\n",
              "       [0.04547137],\n",
              "       [0.04613328],\n",
              "       [0.04598492],\n",
              "       [0.04873691],\n",
              "       [0.04957489],\n",
              "       [0.04548441],\n",
              "       [0.04394701],\n",
              "       [0.04250907],\n",
              "       [0.04246016],\n",
              "       [0.04251722],\n",
              "       [0.04374811],\n",
              "       [0.04485347],\n",
              "       [0.04362095],\n",
              "       [0.04453393],\n",
              "       [0.04469696],\n",
              "       [0.0423281 ],\n",
              "       [0.04135969],\n",
              "       [0.04103036],\n",
              "       [0.04202975],\n",
              "       [0.04209823],\n",
              "       [0.04055105],\n",
              "       [0.03988098],\n",
              "       [0.04107927],\n",
              "       [0.04223028],\n",
              "       [0.04284817],\n",
              "       [0.04305034],\n",
              "       [0.0445698 ],\n",
              "       [0.04403179],\n",
              "       [0.04499857],\n",
              "       [0.0410809 ],\n",
              "       [0.04225148],\n",
              "       [0.04196454],\n",
              "       [0.04181944],\n",
              "       [0.04243081],\n",
              "       [0.04118524],\n",
              "       [0.04106786],\n",
              "       [0.04085266],\n",
              "       [0.04199063],\n",
              "       [0.04164336],\n",
              "       [0.04197432],\n",
              "       [0.04026085],\n",
              "       [0.04044834],\n",
              "       [0.03959405],\n",
              "       [0.0377958 ],\n",
              "       [0.03575953],\n",
              "       [0.03679152],\n",
              "       [0.03633829],\n",
              "       [0.0355753 ],\n",
              "       [0.0372203 ],\n",
              "       [0.03900224],\n",
              "       [0.03905278],\n",
              "       [0.03770287],\n",
              "       [0.03734094],\n",
              "       [0.03687467],\n",
              "       [0.03647361],\n",
              "       [0.03443407],\n",
              "       [0.03529815],\n",
              "       [0.03523945],\n",
              "       [0.03464928],\n",
              "       [0.03182882],\n",
              "       [0.03090442],\n",
              "       [0.03085877],\n",
              "       [0.02884532],\n",
              "       [0.02929529],\n",
              "       [0.02850295],\n",
              "       [0.0281883 ],\n",
              "       [0.02837742],\n",
              "       [0.02811005],\n",
              "       [0.02761117],\n",
              "       [0.026602  ],\n",
              "       [0.02898716],\n",
              "       [0.02947463],\n",
              "       [0.03100061],\n",
              "       [0.03076421],\n",
              "       [0.03213043],\n",
              "       [0.03281842],\n",
              "       [0.03154025],\n",
              "       [0.03229835],\n",
              "       [0.03246301],\n",
              "       [0.03411127],\n",
              "       [0.03406399],\n",
              "       [0.03433951],\n",
              "       [0.03322926],\n",
              "       [0.03359446],\n",
              "       [0.03388465],\n",
              "       [0.03325209],\n",
              "       [0.0331722 ],\n",
              "       [0.03375423],\n",
              "       [0.03385531],\n",
              "       [0.03446016],\n",
              "       [0.03403301],\n",
              "       [0.0357204 ],\n",
              "       [0.03542694],\n",
              "       [0.03497697],\n",
              "       [0.03493132],\n",
              "       [0.03637579],\n",
              "       [0.03632362],\n",
              "       [0.03738007],\n",
              "       [0.0387528 ],\n",
              "       [0.03857021],\n",
              "       [0.03897453],\n",
              "       [0.03875932],\n",
              "       [0.03951579],\n",
              "       [0.03910821],\n",
              "       [0.03984023],\n",
              "       [0.04060811],\n",
              "       [0.03472916],\n",
              "       [0.034602  ],\n",
              "       [0.03586224],\n",
              "       [0.03692032],\n",
              "       [0.03681434],\n",
              "       [0.03554921],\n",
              "       [0.0356291 ],\n",
              "       [0.03464765],\n",
              "       [0.03504382],\n",
              "       [0.03547911],\n",
              "       [0.03627471],\n",
              "       [0.03573833],\n",
              "       [0.03476014],\n",
              "       [0.0357367 ],\n",
              "       [0.03322926],\n",
              "       [0.03258039],\n",
              "       [0.03328143],\n",
              "       [0.03440473],\n",
              "       [0.03424659],\n",
              "       [0.03342653],\n",
              "       [0.03364174],\n",
              "       [0.03188914],\n",
              "       [0.03247605],\n",
              "       [0.03232607],\n",
              "       [0.03257224],\n",
              "       [0.03357   ],\n",
              "       [0.03420583],\n",
              "       [0.03410801],\n",
              "       [0.03340208],\n",
              "       [0.03485307],\n",
              "       [0.03450581],\n",
              "       [0.03521337],\n",
              "       [0.03582474],\n",
              "       [0.03770939],\n",
              "       [0.03750886],\n",
              "       [0.03739963],\n",
              "       [0.03700998],\n",
              "       [0.03733279],\n",
              "       [0.03712085],\n",
              "       [0.03762788],\n",
              "       [0.03665294],\n",
              "       [0.03675239],\n",
              "       [0.03381455],\n",
              "       [0.0347096 ],\n",
              "       [0.03696923],\n",
              "       [0.03689912],\n",
              "       [0.0366937 ],\n",
              "       [0.03731649],\n",
              "       [0.03706215],\n",
              "       [0.03541553],\n",
              "       [0.03515468],\n",
              "       [0.03618015],\n",
              "       [0.03656001],\n",
              "       [0.0372904 ],\n",
              "       [0.03732464],\n",
              "       [0.03783819],\n",
              "       [0.03931689],\n",
              "       [0.03946851],\n",
              "       [0.03977175],\n",
              "       [0.04013369],\n",
              "       [0.03931526],\n",
              "       [0.0387528 ],\n",
              "       [0.03909191],\n",
              "       [0.03894518],\n",
              "       [0.04628164],\n",
              "       [0.05091991],\n",
              "       [0.05085144],\n",
              "       [0.04897819],\n",
              "       [0.04878092],\n",
              "       [0.04876625],\n",
              "       [0.04850377],\n",
              "       [0.04918198],\n",
              "       [0.04914123],\n",
              "       [0.05066721],\n",
              "       [0.05212798],\n",
              "       [0.05238883],\n",
              "       [0.05368494],\n",
              "       [0.05447402],\n",
              "       [0.05385123],\n",
              "       [0.05437946],\n",
              "       [0.05483921],\n",
              "       [0.0544838 ],\n",
              "       [0.0560375 ],\n",
              "       [0.05484736],\n",
              "       [0.05527288],\n",
              "       [0.0517204 ],\n",
              "       [0.0522584 ],\n",
              "       [0.0510487 ],\n",
              "       [0.05143509],\n",
              "       [0.051215  ],\n",
              "       [0.05201875],\n",
              "       [0.05223558],\n",
              "       [0.05171877],\n",
              "       [0.0512851 ],\n",
              "       [0.05218504],\n",
              "       [0.05277848],\n",
              "       [0.05429631],\n",
              "       [0.05492562],\n",
              "       [0.05606358],\n",
              "       [0.05585327],\n",
              "       [0.05962095],\n",
              "       [0.05921173],\n",
              "       [0.06152027],\n",
              "       [0.0632957 ],\n",
              "       [0.0635484 ],\n",
              "       [0.06577053],\n",
              "       [0.06675362],\n",
              "       [0.06768127],\n",
              "       [0.06758997],\n",
              "       [0.06503363],\n",
              "       [0.06562543],\n",
              "       [0.06757041],\n",
              "       [0.06964907],\n",
              "       [0.07103974],\n",
              "       [0.07389606],\n",
              "       [0.07765885],\n",
              "       [0.0758981 ],\n",
              "       [0.07537803],\n",
              "       [0.08299327],\n",
              "       [0.08512248],\n",
              "       [0.08195638],\n",
              "       [0.08113959],\n",
              "       [0.08065213],\n",
              "       [0.08663542],\n",
              "       [0.09028082],\n",
              "       [0.09071123],\n",
              "       [0.08950804],\n",
              "       [0.08839942],\n",
              "       [0.08984715],\n",
              "       [0.09214428],\n",
              "       [0.10189688],\n",
              "       [0.10348807],\n",
              "       [0.12458936],\n",
              "       [0.14204361],\n",
              "       [0.11720399],\n",
              "       [0.11952884],\n",
              "       [0.11938373],\n",
              "       [0.12316771],\n",
              "       [0.12367312],\n",
              "       [0.12251721],\n",
              "       [0.12850214],\n",
              "       [0.12785489],\n",
              "       [0.13737109],\n",
              "       [0.14699327],\n",
              "       [0.14405706],\n",
              "       [0.14431628],\n",
              "       [0.13335887],\n",
              "       [0.12783533],\n",
              "       [0.12439372],\n",
              "       [0.10812309],\n",
              "       [0.10632811],\n",
              "       [0.11865824],\n",
              "       [0.11896638],\n",
              "       [0.11961687],\n",
              "       [0.11554759],\n",
              "       [0.11211412],\n",
              "       [0.09654778],\n",
              "       [0.10263378],\n",
              "       [0.10082413],\n",
              "       [0.0888119 ],\n",
              "       [0.08654086],\n",
              "       [0.06998492],\n",
              "       [0.06756063],\n",
              "       [0.05631465],\n",
              "       [0.06714326],\n",
              "       [0.06712533],\n",
              "       [0.06822743],\n",
              "       [0.07975545],\n",
              "       [0.08533931],\n",
              "       [0.08353128],\n",
              "       [0.08128143],\n",
              "       [0.07928755],\n",
              "       [0.08285307],\n",
              "       [0.07593397],\n",
              "       [0.07151742],\n",
              "       [0.07568127],\n",
              "       [0.08158793],\n",
              "       [0.08635011],\n",
              "       [0.08690279],\n",
              "       [0.09084165],\n",
              "       [0.10355003],\n",
              "       [0.11315915],\n",
              "       [0.11641003],\n",
              "       [0.11891747],\n",
              "       [0.12033258],\n",
              "       [0.11910495],\n",
              "       [0.10938169],\n",
              "       [0.11678173],\n",
              "       [0.11246464],\n",
              "       [0.11564703],\n",
              "       [0.12764622],\n",
              "       [0.12281557],\n",
              "       [0.12793316],\n",
              "       [0.12489587],\n",
              "       [0.11176198],\n",
              "       [0.12152272],\n",
              "       [0.12266721],\n",
              "       [0.12500999],\n",
              "       [0.12459588],\n",
              "       [0.1310161 ],\n",
              "       [0.12969064],\n",
              "       [0.12938414],\n",
              "       [0.12637619],\n",
              "       [0.1283929 ],\n",
              "       [0.12771469],\n",
              "       [0.13007214],\n",
              "       [0.1291559 ],\n",
              "       [0.13038679],\n",
              "       [0.1323497 ],\n",
              "       [0.130602  ],\n",
              "       [0.13092643],\n",
              "       [0.13114816],\n",
              "       [0.12879723],\n",
              "       [0.13355614],\n",
              "       [0.14384348],\n",
              "       [0.14114693],\n",
              "       [0.14137517],\n",
              "       [0.13834604],\n",
              "       [0.14181536],\n",
              "       [0.15229182],\n",
              "       [0.15078378],\n",
              "       [0.16454044],\n",
              "       [0.15602852],\n",
              "       [0.14990503],\n",
              "       [0.15897289],\n",
              "       [0.15754309],\n",
              "       [0.15911799],\n",
              "       [0.1611021 ],\n",
              "       [0.16060321],\n",
              "       [0.15953046],\n",
              "       [0.16074669],\n",
              "       [0.15407377],\n",
              "       [0.15817077],\n",
              "       [0.1538928 ],\n",
              "       [0.16198084],\n",
              "       [0.17346811],\n",
              "       [0.17996005],\n",
              "       [0.19447482],\n",
              "       [0.22103607],\n",
              "       [0.22401628],\n",
              "       [0.22010678],\n",
              "       [0.22473689],\n",
              "       [0.24925208],\n",
              "       [0.24149336],\n",
              "       [0.24471162],\n",
              "       [0.2494738 ],\n",
              "       [0.24207702],\n",
              "       [0.24210963],\n",
              "       [0.26528632],\n",
              "       [0.25311758],\n",
              "       [0.25702547],\n",
              "       [0.24410353],\n",
              "       [0.22844099],\n",
              "       [0.24842878],\n",
              "       [0.2381398 ],\n",
              "       [0.24182758],\n",
              "       [0.23993314],\n",
              "       [0.23068433],\n",
              "       [0.2395272 ],\n",
              "       [0.23985326],\n",
              "       [0.23953046],\n",
              "       [0.24027388],\n",
              "       [0.23426288],\n",
              "       [0.22869695],\n",
              "       [0.22149418],\n",
              "       [0.25090034],\n",
              "       [0.26169962],\n",
              "       [0.2665433 ],\n",
              "       [0.29669287],\n",
              "       [0.3050809 ],\n",
              "       [0.30368533],\n",
              "       [0.32378723],\n",
              "       [0.33163725],\n",
              "       [0.32580394],\n",
              "       [0.32729406],\n",
              "       [0.34846056],\n",
              "       [0.36241287],\n",
              "       [0.35827999],\n",
              "       [0.40363562],\n",
              "       [0.38466678],\n",
              "       [0.3621031 ],\n",
              "       [0.32919502],\n",
              "       [0.33842266],\n",
              "       [0.26659872],\n",
              "       [0.29600162],\n",
              "       [0.30012634],\n",
              "       [0.30125127],\n",
              "       [0.33948236],\n",
              "       [0.36405135],\n",
              "       [0.35753006],\n",
              "       [0.34258812],\n",
              "       [0.35784796],\n",
              "       [0.36374975],\n",
              "       [0.34324027],\n",
              "       [0.30747909],\n",
              "       [0.31353576],\n",
              "       [0.32947217],\n",
              "       [0.34077033],\n",
              "       [0.33903403],\n",
              "       [0.34713674],\n",
              "       [0.36274709],\n",
              "       [0.33578968],\n",
              "       [0.34442224],\n",
              "       [0.33488486],\n",
              "       [0.34411247],\n",
              "       [0.34461789],\n",
              "       [0.35120439],\n",
              "       [0.35797023],\n",
              "       [0.36151619],\n",
              "       [0.3734583 ],\n",
              "       [0.36333401],\n",
              "       [0.35582637],\n",
              "       [0.34862032],\n",
              "       [0.34137354],\n",
              "       [0.34194416],\n",
              "       [0.34451192],\n",
              "       [0.34030568],\n",
              "       [0.34002037],\n",
              "       [0.34360708],\n",
              "       [0.32839615],\n",
              "       [0.33231708],\n",
              "       [0.31373955],\n",
              "       [0.32390462],\n",
              "       [0.34297125],\n",
              "       [0.34059099],\n",
              "       [0.3545384 ],\n",
              "       [0.347903  ],\n",
              "       [0.34081924],\n",
              "       [0.33193395],\n",
              "       [0.33745261],\n",
              "       [0.3330752 ],\n",
              "       [0.33041776],\n",
              "       [0.33008354],\n",
              "       [0.35740776],\n",
              "       [0.39411453],\n",
              "       [0.40441001],\n",
              "       [0.39653554],\n",
              "       [0.42281635],\n",
              "       [0.45014876],\n",
              "       [0.46532707],\n",
              "       [0.47491338],\n",
              "       [0.46011001],\n",
              "       [0.47409822],\n",
              "       [0.46110454],\n",
              "       [0.48112491],\n",
              "       [0.48573871],\n",
              "       [0.52056246],\n",
              "       [0.52718157],\n",
              "       [0.49017319],\n",
              "       [0.50858772],\n",
              "       [0.49466474],\n",
              "       [0.5189892 ],\n",
              "       [0.51362542],\n",
              "       [0.50508254],\n",
              "       [0.53208886],\n",
              "       [0.56396167],\n",
              "       [0.52716525],\n",
              "       [0.51940494],\n",
              "       [0.52400241],\n",
              "       [0.53687385],\n",
              "       [0.53843895],\n",
              "       [0.54031381],\n",
              "       [0.56378236],\n",
              "       [0.57265944],\n",
              "       [0.59230487],\n",
              "       [0.59665781],\n",
              "       [0.61367023],\n",
              "       [0.66262886],\n",
              "       [0.71478296],\n",
              "       [0.65867535],\n",
              "       [0.68985529],\n",
              "       [0.69390662],\n",
              "       [0.68623597],\n",
              "       [0.6708783 ],\n",
              "       [0.68586914],\n",
              "       [0.69067861],\n",
              "       [0.68622781],\n",
              "       [0.68757285],\n",
              "       [0.71541876],\n",
              "       [0.71728551],\n",
              "       [0.70185445],\n",
              "       [0.67843486],\n",
              "       [0.64427961],\n",
              "       [0.68200528],\n",
              "       [0.7088893 ],\n",
              "       [0.69413489],\n",
              "       [0.69030362],\n",
              "       [0.69212958],\n",
              "       [0.70125124],\n",
              "       [0.68987161],\n",
              "       [0.65348277],\n",
              "       [0.65905845],\n",
              "       [0.66269409],\n",
              "       [0.64647234],\n",
              "       [0.64804565],\n",
              "       [0.63926634],\n",
              "       [0.63431014],\n",
              "       [0.57985733],\n",
              "       [0.56709192],\n",
              "       [0.6022906 ],\n",
              "       [0.55354388],\n",
              "       [0.54806601],\n",
              "       [0.58306091],\n",
              "       [0.55698389],\n",
              "       [0.52988791],\n",
              "       [0.50399836],\n",
              "       [0.48485021],\n",
              "       [0.45636029],\n",
              "       [0.54650092],\n",
              "       [0.54200121],\n",
              "       [0.5677114 ],\n",
              "       [0.5629264 ],\n",
              "       [0.57450987],\n",
              "       [0.54919094],\n",
              "       [0.56951292],\n",
              "       [0.52985527],\n",
              "       [0.53124922],\n",
              "       [0.54358262],\n",
              "       [0.53719173],\n",
              "       [0.51119625],\n",
              "       [0.51944569],\n",
              "       [0.50177298],\n",
              "       [0.49572444],\n",
              "       [0.51555735],\n",
              "       [0.54189523],\n",
              "       [0.53685754],\n",
              "       [0.56074177],\n",
              "       [0.56120642],\n",
              "       [0.54437331],\n",
              "       [0.55483185],\n",
              "       [0.54930507],\n",
              "       [0.56965149],\n",
              "       [0.61883838],\n",
              "       [0.59431014],\n",
              "       [0.59970651],\n",
              "       [0.60046465],\n",
              "       [0.57996331],\n",
              "       [0.5835174 ],\n",
              "       [0.60400242],\n",
              "       [0.58408802],\n",
              "       [0.59200326],\n",
              "       [0.59917668],\n",
              "       [0.57190134],\n",
              "       [0.56347259],\n",
              "       [0.54928876],\n",
              "       [0.57573261],\n",
              "       [0.55572856],\n",
              "       [0.54651719],\n",
              "       [0.54434888],\n",
              "       [0.53831666],\n",
              "       [0.54551455],\n",
              "       [0.51019357],\n",
              "       [0.50054208],\n",
              "       [0.47828001],\n",
              "       [0.46344405],\n",
              "       [0.47815771],\n",
              "       [0.46763399],\n",
              "       [0.46848174],\n",
              "       [0.45673528],\n",
              "       [0.47574486],\n",
              "       [0.47093539],\n",
              "       [0.49177093],\n",
              "       [0.49034439],\n",
              "       [0.50211534],\n",
              "       [0.51166901],\n",
              "       [0.50707964],\n",
              "       [0.50600367],\n",
              "       [0.49069491],\n",
              "       [0.4643815 ],\n",
              "       [0.48574687],\n",
              "       [0.49070307],\n",
              "       [0.48944774],\n",
              "       [0.48552681],\n",
              "       [0.49477072],\n",
              "       [0.49458325],\n",
              "       [0.5009415 ],\n",
              "       [0.48599957],\n",
              "       [0.49049112],\n",
              "       [0.50005295],\n",
              "       [0.50552271],\n",
              "       [0.50350112],\n",
              "       [0.50584879],\n",
              "       [0.532635  ],\n",
              "       [0.55158752],\n",
              "       [0.54510697],\n",
              "       [0.55884243],\n",
              "       [0.55235377],\n",
              "       [0.5514897 ],\n",
              "       [0.55003869],\n",
              "       [0.55083758],\n",
              "       [0.53508865],\n",
              "       [0.52291829],\n",
              "       [0.52956999],\n",
              "       [0.53294477],\n",
              "       [0.55638068],\n",
              "       [0.54239247],\n",
              "       [0.53003463],\n",
              "       [0.52776846],\n",
              "       [0.52256772],\n",
              "       [0.52419805],\n",
              "       [0.53583858],\n",
              "       [0.53159157],\n",
              "       [0.52667617],\n",
              "       [0.52188301],\n",
              "       [0.53349091],\n",
              "       [0.52302426],\n",
              "       [0.52481758],\n",
              "       [0.54957404],\n",
              "       [0.55760342],\n",
              "       [0.57592008],\n",
              "       [0.57597715],\n",
              "       [0.57693904],\n",
              "       [0.57996331],\n",
              "       [0.56730382],\n",
              "       [0.57925412],\n",
              "       [0.57618094],\n",
              "       [0.57441205],\n",
              "       [0.58617484],\n",
              "       [0.5820338 ],\n",
              "       [0.55676378],\n",
              "       [0.54008559],\n",
              "       [0.55906254],\n",
              "       [0.54641121],\n",
              "       [0.55194619],\n",
              "       [0.57317299],\n",
              "       [0.5749582 ],\n",
              "       [0.57716731],\n",
              "       [0.56898305],\n",
              "       [0.5777542 ],\n",
              "       [0.59323412],\n",
              "       [0.59715504],\n",
              "       [0.59582638],\n",
              "       [0.59444059],\n",
              "       [0.59540248],\n",
              "       [0.61117584],\n",
              "       [0.61195025],\n",
              "       [0.61275726],\n",
              "       [0.59760342],\n",
              "       [0.60308945],\n",
              "       [0.60430403],\n",
              "       [0.61354799],\n",
              "       [0.61449356],\n",
              "       [0.61653146],\n",
              "       [0.5926309 ],\n",
              "       [0.60013856],\n",
              "       [0.610377  ],\n",
              "       [0.61176278],\n",
              "       [0.62867739],\n",
              "       [0.64251067],\n",
              "       [0.63126144],\n",
              "       [0.6343183 ],\n",
              "       [0.62956589],\n",
              "       [0.62935394],\n",
              "       [0.63449766],\n",
              "       [0.63373141],\n",
              "       [0.63549214],\n",
              "       [0.64434478],\n",
              "       [0.63772567],\n",
              "       [0.64298348],\n",
              "       [0.65421638],\n",
              "       [0.65858569],\n",
              "       [0.66448745],\n",
              "       [0.68463013],\n",
              "       [0.70670468],\n",
              "       [0.70194416],\n",
              "       [0.70319133],\n",
              "       [0.72617891],\n",
              "       [0.73896064],\n",
              "       [0.83285099],\n",
              "       [0.82760951],\n",
              "       [0.8434481 ],\n",
              "       [0.87538619],\n",
              "       [0.90551455],\n",
              "       [0.98262069],\n",
              "       [0.95279394],\n",
              "       [0.98691661],\n",
              "       [1.        ],\n",
              "       [0.99362538],\n",
              "       [0.94540853],\n",
              "       [0.83174239],\n",
              "       [0.8679763 ],\n",
              "       [0.86435702],\n",
              "       [0.83982883],\n",
              "       [0.82350111],\n",
              "       [0.85719988]])"
            ]
          },
          "metadata": {},
          "execution_count": 9
        }
      ]
    },
    {
      "cell_type": "code",
      "metadata": {
        "id": "R7aKPHG1WiGN"
      },
      "source": [
        "# Function to create dataset into feature and target\n",
        "def create_dataset_lstm(dataset, time_step=1):\n",
        "    dataX, dataY = [], []\n",
        "    for i in range(len(dataset) - time_step-1):\n",
        "        a = dataset[i:(i+time_step), 0]\n",
        "        dataX.append(a)\n",
        "        dataY.append(dataset[i+time_step, 0])\n",
        "    return np.array(dataX), np.array(dataY)\n",
        "        "
      ],
      "execution_count": 10,
      "outputs": []
    },
    {
      "cell_type": "code",
      "metadata": {
        "id": "9ZLg7CC-WiGO"
      },
      "source": [
        "# Creating dataset for training and testing\n",
        "X_train_lstm, y_train_lstm = create_dataset_lstm(train_data_lstm, NUMBER_OF_DAYS_FOR_PRICE_PREDICTION)\n",
        "X_test_lstm, y_test_lstm = create_dataset_lstm(test_data_lstm, NUMBER_OF_DAYS_FOR_PRICE_PREDICTION)"
      ],
      "execution_count": 11,
      "outputs": []
    },
    {
      "cell_type": "code",
      "metadata": {
        "id": "6Dr5CKhl7DIP",
        "colab": {
          "base_uri": "https://localhost:8080/"
        },
        "outputId": "4676ec8d-919f-4c3d-cd4e-e4dbe1d84cf3"
      },
      "source": [
        "# reshape input to be [samples, time steps, features] which is required for LSTM\n",
        "X_train_lstm = X_train_lstm.reshape(X_train_lstm.shape[0], X_train_lstm.shape[1], 1)\n",
        "X_test_lstm = X_test_lstm.reshape(X_test_lstm.shape[0], X_test_lstm.shape[1], 1)\n",
        "\n",
        "print('Training Shape: ', X_train_lstm.shape)\n",
        "print('Testing Shape: ', X_test_lstm.shape)"
      ],
      "execution_count": 12,
      "outputs": [
        {
          "output_type": "stream",
          "name": "stdout",
          "text": [
            "Training Shape:  (1906, 100, 1)\n",
            "Testing Shape:  (760, 100, 1)\n"
          ]
        }
      ]
    },
    {
      "cell_type": "code",
      "metadata": {
        "id": "p5P5XHwW1mus"
      },
      "source": [
        ""
      ],
      "execution_count": 12,
      "outputs": []
    },
    {
      "cell_type": "markdown",
      "metadata": {
        "id": "6pcMPECE8UsG"
      },
      "source": [
        "#### B. Split Data for Other Model ####\n"
      ]
    },
    {
      "cell_type": "code",
      "metadata": {
        "id": "SeFvgU9B8bLd"
      },
      "source": [
        "# Split the first 70% of data to training set and last 30% to testing set since our dataset is time-series data\n",
        "train_index = 0.7 * model_df.shape[0]\n",
        "train_data = list(model_df[:int(train_index)])\n",
        "test_data = list(model_df[int(train_index):])"
      ],
      "execution_count": 13,
      "outputs": []
    },
    {
      "cell_type": "code",
      "metadata": {
        "id": "n_BOu-nn8xjN"
      },
      "source": [
        "# Function to create dataset into feature and target\n",
        "def create_dataset(dataset, time_step=1):\n",
        "    dataX, dataY = [], []\n",
        "    for i in range(len(dataset) - time_step-1):\n",
        "        a = dataset[i:(i+time_step)]\n",
        "        dataX.append(a)\n",
        "        dataY.append(dataset[i+time_step])\n",
        "    return np.array(dataX), np.array(dataY)"
      ],
      "execution_count": 14,
      "outputs": []
    },
    {
      "cell_type": "code",
      "metadata": {
        "id": "9SEWvua_8ycf"
      },
      "source": [
        "# Creating dataset for training and testing\n",
        "X_train, y_train = create_dataset(train_data, NUMBER_OF_DAYS_FOR_PRICE_PREDICTION)\n",
        "X_test, y_test= create_dataset(test_data, NUMBER_OF_DAYS_FOR_PRICE_PREDICTION)"
      ],
      "execution_count": 15,
      "outputs": []
    },
    {
      "cell_type": "markdown",
      "metadata": {
        "id": "Tp7Z96nS0YiB"
      },
      "source": [
        "## 5. Create, Train and Evaluate Model ##"
      ]
    },
    {
      "cell_type": "code",
      "metadata": {
        "id": "52sZAIDZCc_4"
      },
      "source": [
        "# Common function to plot graph to evaluate Model\n",
        "def plot_graph(model_df, model, X_train, X_test):\n",
        "  # Making prediction for train and test set for plotting\n",
        "  train_predict = model.predict(X_train)\n",
        "  test_predict = model.predict(X_test)\n",
        "\n",
        "  look_back = NUMBER_OF_DAYS_FOR_PRICE_PREDICTION\n",
        "  train_predict_plot = [ np.nan for i in range(len(model_df))]\n",
        "  train_predict_plot[look_back:len(train_predict) + look_back] = np.array(train_predict)\n",
        "\n",
        "  # Shift test predictions for plotting\n",
        "  test_predict_plot = [ np.nan for i in range(len(model_df))]\n",
        "  test_predict_plot[len(train_predict) + (look_back*2)+1:len(model_df)-1] = list(test_predict)\n",
        "\n",
        "  # Plot baseline and predictions\n",
        "  plt.plot(model_df)\n",
        "  plt.plot(train_predict_plot)\n",
        "  plt.plot(test_predict_plot)\n",
        "  plt.show()\n"
      ],
      "execution_count": 16,
      "outputs": []
    },
    {
      "cell_type": "markdown",
      "metadata": {
        "id": "ojlzGa8s0gQ2"
      },
      "source": [
        "### A. LSTM Model ###"
      ]
    },
    {
      "cell_type": "markdown",
      "metadata": {
        "id": "aQdEheCd01DF"
      },
      "source": [
        "#### I. Create and Train Model ####"
      ]
    },
    {
      "cell_type": "code",
      "metadata": {
        "id": "iZIbcPD5WiGP",
        "colab": {
          "base_uri": "https://localhost:8080/"
        },
        "outputId": "c6d7444d-369f-4a30-acbe-6528a7fc64fb"
      },
      "source": [
        "# Create Stacked LSTM model\n",
        "model = Sequential()\n",
        "model.add(LSTM(50, return_sequences=True, input_shape=(NUMBER_OF_DAYS_FOR_PRICE_PREDICTION,1)))\n",
        "model.add(LSTM(50, return_sequences=True))\n",
        "model.add(LSTM(50))\n",
        "model.add(Dense(1))\n",
        "model.compile(loss='mean_squared_error', optimizer='adam')\n",
        "model.summary()"
      ],
      "execution_count": 17,
      "outputs": [
        {
          "output_type": "stream",
          "name": "stdout",
          "text": [
            "Model: \"sequential\"\n",
            "_________________________________________________________________\n",
            " Layer (type)                Output Shape              Param #   \n",
            "=================================================================\n",
            " lstm (LSTM)                 (None, 100, 50)           10400     \n",
            "                                                                 \n",
            " lstm_1 (LSTM)               (None, 100, 50)           20200     \n",
            "                                                                 \n",
            " lstm_2 (LSTM)               (None, 50)                20200     \n",
            "                                                                 \n",
            " dense (Dense)               (None, 1)                 51        \n",
            "                                                                 \n",
            "=================================================================\n",
            "Total params: 50,851\n",
            "Trainable params: 50,851\n",
            "Non-trainable params: 0\n",
            "_________________________________________________________________\n"
          ]
        }
      ]
    },
    {
      "cell_type": "code",
      "metadata": {
        "scrolled": true,
        "tags": [],
        "id": "WjMEXdjbWiGP",
        "colab": {
          "base_uri": "https://localhost:8080/"
        },
        "outputId": "5375d713-901f-44ae-d7c1-aa3ca4fcfe1c"
      },
      "source": [
        "model.fit(X_train_lstm, y_train_lstm, validation_data=(X_test_lstm, y_test_lstm), epochs=NUMBER_OF_EPOCHS, batch_size=64, verbose=1)"
      ],
      "execution_count": 18,
      "outputs": [
        {
          "output_type": "stream",
          "name": "stdout",
          "text": [
            "Epoch 1/25\n",
            "30/30 [==============================] - 14s 261ms/step - loss: 1.6662e-04 - val_loss: 0.0075\n",
            "Epoch 2/25\n",
            "30/30 [==============================] - 6s 215ms/step - loss: 1.3958e-05 - val_loss: 0.0069\n",
            "Epoch 3/25\n",
            "30/30 [==============================] - 6s 209ms/step - loss: 8.2102e-06 - val_loss: 0.0045\n",
            "Epoch 4/25\n",
            "30/30 [==============================] - 6s 211ms/step - loss: 6.9128e-06 - val_loss: 0.0057\n",
            "Epoch 5/25\n",
            "30/30 [==============================] - 6s 212ms/step - loss: 6.4913e-06 - val_loss: 0.0047\n",
            "Epoch 6/25\n",
            "30/30 [==============================] - 6s 212ms/step - loss: 6.9503e-06 - val_loss: 0.0042\n",
            "Epoch 7/25\n",
            "30/30 [==============================] - 6s 213ms/step - loss: 6.7499e-06 - val_loss: 0.0041\n",
            "Epoch 8/25\n",
            "30/30 [==============================] - 6s 210ms/step - loss: 6.2867e-06 - val_loss: 0.0047\n",
            "Epoch 9/25\n",
            "30/30 [==============================] - 6s 212ms/step - loss: 5.9784e-06 - val_loss: 0.0038\n",
            "Epoch 10/25\n",
            "30/30 [==============================] - 6s 211ms/step - loss: 5.7377e-06 - val_loss: 0.0039\n",
            "Epoch 11/25\n",
            "30/30 [==============================] - 6s 210ms/step - loss: 6.7982e-06 - val_loss: 0.0049\n",
            "Epoch 12/25\n",
            "30/30 [==============================] - 6s 210ms/step - loss: 6.0990e-06 - val_loss: 0.0046\n",
            "Epoch 13/25\n",
            "30/30 [==============================] - 6s 212ms/step - loss: 7.2780e-06 - val_loss: 0.0041\n",
            "Epoch 14/25\n",
            "30/30 [==============================] - 6s 214ms/step - loss: 5.2795e-06 - val_loss: 0.0038\n",
            "Epoch 15/25\n",
            "30/30 [==============================] - 6s 214ms/step - loss: 5.8070e-06 - val_loss: 0.0033\n",
            "Epoch 16/25\n",
            "30/30 [==============================] - 6s 213ms/step - loss: 6.1089e-06 - val_loss: 0.0033\n",
            "Epoch 17/25\n",
            "30/30 [==============================] - 6s 213ms/step - loss: 4.8076e-06 - val_loss: 0.0040\n",
            "Epoch 18/25\n",
            "30/30 [==============================] - 6s 213ms/step - loss: 4.9800e-06 - val_loss: 0.0033\n",
            "Epoch 19/25\n",
            "30/30 [==============================] - 6s 215ms/step - loss: 5.0721e-06 - val_loss: 0.0040\n",
            "Epoch 20/25\n",
            "30/30 [==============================] - 6s 211ms/step - loss: 4.3976e-06 - val_loss: 0.0029\n",
            "Epoch 21/25\n",
            "30/30 [==============================] - 6s 214ms/step - loss: 4.7691e-06 - val_loss: 0.0034\n",
            "Epoch 22/25\n",
            "30/30 [==============================] - 6s 215ms/step - loss: 4.9090e-06 - val_loss: 0.0045\n",
            "Epoch 23/25\n",
            "30/30 [==============================] - 6s 214ms/step - loss: 4.4179e-06 - val_loss: 0.0033\n",
            "Epoch 24/25\n",
            "30/30 [==============================] - 6s 212ms/step - loss: 4.6849e-06 - val_loss: 0.0039\n",
            "Epoch 25/25\n",
            "30/30 [==============================] - 6s 209ms/step - loss: 5.6046e-06 - val_loss: 0.0041\n"
          ]
        },
        {
          "output_type": "execute_result",
          "data": {
            "text/plain": [
              "<keras.callbacks.History at 0x7fbc9fe3a390>"
            ]
          },
          "metadata": {},
          "execution_count": 18
        }
      ]
    },
    {
      "cell_type": "markdown",
      "metadata": {
        "id": "NwsSskqY1cda"
      },
      "source": [
        "#### II. Evaluate LSTM ####"
      ]
    },
    {
      "cell_type": "code",
      "metadata": {
        "id": "aHh5puNmWiGQ"
      },
      "source": [
        "# Predict and check performance metrics\n",
        "train_predict_lstm = model.predict(X_train_lstm)\n",
        "test_predict_lstm = model.predict(X_test_lstm)"
      ],
      "execution_count": 19,
      "outputs": []
    },
    {
      "cell_type": "code",
      "metadata": {
        "id": "xdI_nTR1WiGQ"
      },
      "source": [
        "# Transform back to original form\n",
        "train_predict_lstm = scaler.inverse_transform(train_predict_lstm)\n",
        "test_predict_lstm = scaler.inverse_transform(test_predict_lstm)"
      ],
      "execution_count": 20,
      "outputs": []
    },
    {
      "cell_type": "code",
      "metadata": {
        "id": "9-ESRiWhWiGR",
        "colab": {
          "base_uri": "https://localhost:8080/"
        },
        "outputId": "2cc7b217-ea99-4e33-b92c-3afddfb0a4ce"
      },
      "source": [
        "# Test Data RMSE\n",
        "rmse_lstm = math.sqrt(mean_squared_error(y_test_lstm, test_predict_lstm))\n",
        "rmse_lstm"
      ],
      "execution_count": 21,
      "outputs": [
        {
          "output_type": "execute_result",
          "data": {
            "text/plain": [
              "381.06165437250706"
            ]
          },
          "metadata": {},
          "execution_count": 21
        }
      ]
    },
    {
      "cell_type": "code",
      "metadata": {
        "id": "36uh04ehWiGR",
        "colab": {
          "base_uri": "https://localhost:8080/",
          "height": 265
        },
        "outputId": "fed4e7a2-3d9e-4efe-ba4f-17ed26199e41"
      },
      "source": [
        "# Shift train predictions for plotting\n",
        "look_back = NUMBER_OF_DAYS_FOR_PRICE_PREDICTION\n",
        "train_predict_plot = np.empty_like(model_df_lstm)\n",
        "train_predict_plot[:, :] = np.nan\n",
        "train_predict_plot[look_back:len(train_predict_lstm) + look_back, :] = train_predict_lstm\n",
        "\n",
        "# Shift test predictions for plotting\n",
        "test_predict_plot = np.empty_like(model_df_lstm)\n",
        "test_predict_plot[:, :] = np.nan\n",
        "test_predict_plot[len(train_predict_lstm) + (look_back*2)+1:len(model_df_lstm)-1, :] = test_predict_lstm\n",
        "\n",
        "# Plot baseline and predictions\n",
        "plt.plot(scaler.inverse_transform(model_df_lstm))\n",
        "plt.plot(train_predict_plot)\n",
        "plt.plot(test_predict_plot)\n",
        "plt.show()\n"
      ],
      "execution_count": 22,
      "outputs": [
        {
          "output_type": "display_data",
          "data": {
            "image/png": "[encoded data removed]",
            "text/plain": [
              "<Figure size 432x288 with 1 Axes>"
            ]
          },
          "metadata": {
            "needs_background": "light"
          }
        }
      ]
    },
    {
      "cell_type": "markdown",
      "metadata": {
        "id": "W8o3s-6-1prQ"
      },
      "source": [
        "### B. Linear Regression Model ###"
      ]
    },
    {
      "cell_type": "markdown",
      "metadata": {
        "id": "nw2fwKtu0-3L"
      },
      "source": [
        "### I. Create and Train Model ###"
      ]
    },
    {
      "cell_type": "code",
      "metadata": {
        "id": "MGbYDtCp1DMn"
      },
      "source": [
        "# Create and Train Linear Regression Model\n",
        "reg = LinearRegression().fit(X_train, y_train)"
      ],
      "execution_count": 23,
      "outputs": []
    },
    {
      "cell_type": "markdown",
      "metadata": {
        "id": "xU7-WKgRArkO"
      },
      "source": [
        "### II. Evaluate Model ###"
      ]
    },
    {
      "cell_type": "code",
      "metadata": {
        "id": "e3xe581CkHa3",
        "colab": {
          "base_uri": "https://localhost:8080/"
        },
        "outputId": "2235db6e-ba91-42df-86b0-d712b0f4b998"
      },
      "source": [
        "# Test Data RMSE\n",
        "rmse_reg = math.sqrt(mean_squared_error(reg.predict(X_test), y_test))\n",
        "rmse_reg"
      ],
      "execution_count": 24,
      "outputs": [
        {
          "output_type": "execute_result",
          "data": {
            "text/plain": [
              "18.045901025654945"
            ]
          },
          "metadata": {},
          "execution_count": 24
        }
      ]
    },
    {
      "cell_type": "code",
      "metadata": {
        "id": "IbHW0pDYWtUE",
        "colab": {
          "base_uri": "https://localhost:8080/",
          "height": 265
        },
        "outputId": "675b4aa2-1fec-4391-eaa2-56229be7b21e"
      },
      "source": [
        "# Plot train and test prediction in graph\n",
        "plot_graph(model_df, reg, X_train, X_test)"
      ],
      "execution_count": 25,
      "outputs": [
        {
          "output_type": "display_data",
          "data": {
            "image/png": "[encoded data removed]",
            "text/plain": [
              "<Figure size 432x288 with 1 Axes>"
            ]
          },
          "metadata": {
            "needs_background": "light"
          }
        }
      ]
    },
    {
      "cell_type": "markdown",
      "metadata": {
        "id": "Tu1M1oyG2lfo"
      },
      "source": [
        "### C. Decision Tree Regression Model ###"
      ]
    },
    {
      "cell_type": "markdown",
      "metadata": {
        "id": "C8HuutlyVBfa"
      },
      "source": [
        "#### I. Create and Train Model ####"
      ]
    },
    {
      "cell_type": "code",
      "metadata": {
        "id": "NuSpHA5BVBp7"
      },
      "source": [
        "# Create and Train Decision Tree Model\n",
        "d_tree = DecisionTreeRegressor().fit(X_train, y_train)"
      ],
      "execution_count": 26,
      "outputs": []
    },
    {
      "cell_type": "markdown",
      "metadata": {
        "id": "MkNzeDf1Ytm8"
      },
      "source": [
        "#### II. Evaluate Decision Tree Regression ####"
      ]
    },
    {
      "cell_type": "code",
      "metadata": {
        "id": "7MJPzHRfYtyf",
        "colab": {
          "base_uri": "https://localhost:8080/"
        },
        "outputId": "d0d8ff7b-58e3-42aa-b80b-77322179b149"
      },
      "source": [
        "# Test Data RMSE\n",
        "rmse_tree = math.sqrt(mean_squared_error(d_tree.predict(X_test), y_test))\n",
        "rmse_tree"
      ],
      "execution_count": 27,
      "outputs": [
        {
          "output_type": "execute_result",
          "data": {
            "text/plain": [
              "399.39972019580273"
            ]
          },
          "metadata": {},
          "execution_count": 27
        }
      ]
    },
    {
      "cell_type": "code",
      "metadata": {
        "id": "rr91A3PtYt28",
        "colab": {
          "base_uri": "https://localhost:8080/",
          "height": 265
        },
        "outputId": "64f9e0dc-ff3f-4ca4-f34b-fe79fafec7af"
      },
      "source": [
        "# Plot train and test prediction in graph\n",
        "plot_graph(model_df, d_tree, X_train, X_test)"
      ],
      "execution_count": 28,
      "outputs": [
        {
          "output_type": "display_data",
          "data": {
            "image/png": "[encoded data removed]",
            "text/plain": [
              "<Figure size 432x288 with 1 Axes>"
            ]
          },
          "metadata": {
            "needs_background": "light"
          }
        }
      ]
    },
    {
      "cell_type": "markdown",
      "metadata": {
        "id": "Otw3Lr_m4yG4"
      },
      "source": [
        "### D. KNN Regression Model ###"
      ]
    },
    {
      "cell_type": "markdown",
      "metadata": {
        "id": "AJzdAQZDV-1H"
      },
      "source": [
        "#### I. Create and Train Model ####\n"
      ]
    },
    {
      "cell_type": "code",
      "metadata": {
        "id": "Kk1mJeBpV86I"
      },
      "source": [
        "knn = KNeighborsRegressor().fit(X_train, y_train)"
      ],
      "execution_count": 29,
      "outputs": []
    },
    {
      "cell_type": "markdown",
      "metadata": {
        "id": "ygeA4531Yt9c"
      },
      "source": [
        "#### II. Evaluate Model ####"
      ]
    },
    {
      "cell_type": "code",
      "metadata": {
        "id": "4_LXww9kYuEQ",
        "colab": {
          "base_uri": "https://localhost:8080/"
        },
        "outputId": "9e7e9caf-0ba6-42b6-c169-ca60a6ea89e2"
      },
      "source": [
        "# Test Data RMSE\n",
        "rmse_knn = math.sqrt(mean_squared_error(knn.predict(X_test), y_test))\n",
        "rmse_knn"
      ],
      "execution_count": 30,
      "outputs": [
        {
          "output_type": "execute_result",
          "data": {
            "text/plain": [
              "402.37747884252946"
            ]
          },
          "metadata": {},
          "execution_count": 30
        }
      ]
    },
    {
      "cell_type": "code",
      "metadata": {
        "id": "U7hYKhtuYuGn",
        "colab": {
          "base_uri": "https://localhost:8080/",
          "height": 265
        },
        "outputId": "93c83e82-8022-42a8-fcd3-d44b2decdeb8"
      },
      "source": [
        "# Plot train and test prediction in graph\n",
        "plot_graph(model_df, d_tree, X_train, X_test)"
      ],
      "execution_count": 31,
      "outputs": [
        {
          "output_type": "display_data",
          "data": {
            "image/png": "[encoded data removed]",
            "text/plain": [
              "<Figure size 432x288 with 1 Axes>"
            ]
          },
          "metadata": {
            "needs_background": "light"
          }
        }
      ]
    },
    {
      "cell_type": "markdown",
      "metadata": {
        "id": "ElieCV2P5AwJ"
      },
      "source": [
        "## 6. Comparing and Choosing Best Model ##"
      ]
    },
    {
      "cell_type": "code",
      "metadata": {
        "id": "e7ciikRD5Gyw"
      },
      "source": [
        "# Add code to compare and choose best model "
      ],
      "execution_count": 32,
      "outputs": []
    },
    {
      "cell_type": "markdown",
      "metadata": {
        "id": "P_Pq0YrFWiGR"
      },
      "source": [
        "## 7. Predict Stock Market movement Trend for Next 30 Days Using Best Model ##"
      ]
    },
    {
      "cell_type": "code",
      "metadata": {
        "id": "Y1OwrbCMnT3w",
        "colab": {
          "base_uri": "https://localhost:8080/",
          "height": 0
        },
        "outputId": "9896fccd-c483-4a5c-eb64-80041c370b27"
      },
      "source": [
        "# For LSTM\n",
        "lastest_data_index = len(test_data_lstm) - NUMBER_OF_DAYS_FOR_PRICE_PREDICTION\n",
        "x_input=test_data_lstm[lastest_data_index:].reshape(1,-1)\n",
        "\n",
        "temp_input=list(x_input)\n",
        "temp_input=temp_input[0].tolist()\n",
        "\n",
        "# demonstrate prediction for next n days\n",
        "lst_output=[]\n",
        "n_steps=NUMBER_OF_DAYS_FOR_PRICE_PREDICTION\n",
        "i=0\n",
        "while(i<NUMBER_OF_DAYS_TO_PREDICT):\n",
        "    \n",
        "    if(len(temp_input)>NUMBER_OF_DAYS_FOR_PRICE_PREDICTION):\n",
        "        x_input=np.array(temp_input[1:])\n",
        "        x_input=x_input.reshape(1,-1)\n",
        "        x_input = x_input.reshape((1, n_steps, 1))\n",
        "        yhat = model.predict(x_input, verbose=0)\n",
        "        temp_input.extend(yhat[0].tolist())\n",
        "        temp_input=temp_input[1:]\n",
        "        lst_output.extend(yhat.tolist())\n",
        "        i=i+1\n",
        "    else:\n",
        "        x_input = x_input.reshape((1, n_steps,1))\n",
        "        yhat = model.predict(x_input, verbose=0)\n",
        "        temp_input.extend(yhat[0].tolist())\n",
        "        lst_output.extend(yhat.tolist())\n",
        "        i=i+1\n",
        "\n",
        "day_new=np.arange(1,NUMBER_OF_DAYS_FOR_PRICE_PREDICTION + 1)\n",
        "day_pred=np.arange(NUMBER_OF_DAYS_FOR_PRICE_PREDICTION + 1, NUMBER_OF_DAYS_FOR_PRICE_PREDICTION + NUMBER_OF_DAYS_TO_PREDICT + 1)\n",
        "\n",
        "lastest_model_df_index = len(model_df_lstm) - NUMBER_OF_DAYS_FOR_PRICE_PREDICTION\n",
        "\n",
        "df3=model_df_lstm.tolist()\n",
        "df3.extend(lst_output)\n",
        "df3=scaler.inverse_transform(df3).tolist()\n",
        "\n",
        "plt.figure(figsize=(15,10))\n",
        "plt.plot(df3)"
      ],
      "execution_count": 33,
      "outputs": [
        {
          "output_type": "execute_result",
          "data": {
            "text/plain": [
              "[<matplotlib.lines.Line2D at 0x7fbc9f8d4bd0>]"
            ]
          },
          "metadata": {},
          "execution_count": 33
        },
        {
          "output_type": "display_data",
          "data": {
            "image/png": "[encoded data removed]",
            "text/plain": [
              "<Figure size 1080x720 with 1 Axes>"
            ]
          },
          "metadata": {
            "needs_background": "light"
          }
        }
      ]
    },
    {
      "cell_type": "code",
      "metadata": {
        "id": "6IBGbu6HpR5o",
        "colab": {
          "base_uri": "https://localhost:8080/",
          "height": 0
        },
        "outputId": "0c2b4202-67e2-4b91-ba37-e3af8be51a21"
      },
      "source": [
        "# For other model\n",
        "lastest_data_index = len(test_data) - NUMBER_OF_DAYS_FOR_PRICE_PREDICTION\n",
        "x_input=test_data[lastest_data_index:]\n",
        "\n",
        "temp_input=list(x_input)\n",
        "temp_input=[temp_input[0]]\n",
        "\n",
        "# demonstrate prediction for next n days\n",
        "lst_output = []\n",
        "last_n_days_data = test_data[lastest_data_index : ]\n",
        "next_day = None\n",
        "for day in range(NUMBER_OF_DAYS_TO_PREDICT):\n",
        "  if next_day is not None:\n",
        "    last_n_days_data = last_n_days_data[1:]\n",
        "    last_n_days_data.append(next_day)\n",
        "  next_day = reg.predict([last_n_days_data])[0]\n",
        "  lst_output.append(next_day)\n",
        "\n",
        "day_new=np.arange(1,NUMBER_OF_DAYS_FOR_PRICE_PREDICTION + 2)\n",
        "day_pred=np.arange(NUMBER_OF_DAYS_FOR_PRICE_PREDICTION + 1, NUMBER_OF_DAYS_FOR_PRICE_PREDICTION + NUMBER_OF_DAYS_TO_PREDICT + 1)\n",
        "\n",
        "lastest_model_df_index = len(model_df) - NUMBER_OF_DAYS_FOR_PRICE_PREDICTION\n",
        "\n",
        "plt.figure(figsize=(15,10))\n",
        "\n",
        "last_n_days = list(model_df[lastest_model_df_index:])\n",
        "last_n_days.append(lst_output[0])\n",
        "\n",
        "plt.plot(day_new,last_n_days)\n",
        "plt.plot(day_pred,lst_output)"
      ],
      "execution_count": 34,
      "outputs": [
        {
          "output_type": "execute_result",
          "data": {
            "text/plain": [
              "[<matplotlib.lines.Line2D at 0x7fbc9f01b410>]"
            ]
          },
          "metadata": {},
          "execution_count": 34
        },
        {
          "output_type": "display_data",
          "data": {
            "image/png": "[encoded data removed]",
            "text/plain": [
              "<Figure size 1080x720 with 1 Axes>"
            ]
          },
          "metadata": {
            "needs_background": "light"
          }
        }
      ]
    },
    {
      "cell_type": "code",
      "metadata": {
        "id": "FkfikdF2yytG",
        "colab": {
          "base_uri": "https://localhost:8080/"
        },
        "outputId": "8b47973b-d96d-4e21-bd7b-1c7c5d976568"
      },
      "source": [
        "model_df.iloc[-1]"
      ],
      "execution_count": 35,
      "outputs": [
        {
          "output_type": "execute_result",
          "data": {
            "text/plain": [
              "1054.72998046875"
            ]
          },
          "metadata": {},
          "execution_count": 35
        }
      ]
    },
    {
      "cell_type": "markdown",
      "metadata": {
        "id": "sT14tX6rUkAI"
      },
      "source": [
        "## 8. Predict Stock Price for Next Day Using Best Model ##"
      ]
    },
    {
      "cell_type": "code",
      "metadata": {
        "id": "99-pJ1GWqsMf",
        "colab": {
          "base_uri": "https://localhost:8080/"
        },
        "outputId": "47bc553c-92dd-4e49-b23e-0194f88d8ee8"
      },
      "source": [
        "# Next day price using other model\n",
        "last_n_days_data=test_data[len(test_data) - NUMBER_OF_DAYS_FOR_PRICE_PREDICTION:]\n",
        "next_day = reg.predict([last_n_days_data])[0]\n",
        "next_day"
      ],
      "execution_count": 38,
      "outputs": [
        {
          "output_type": "execute_result",
          "data": {
            "text/plain": [
              "1050.7683046328389"
            ]
          },
          "metadata": {},
          "execution_count": 38
        }
      ]
    },
    {
      "cell_type": "code",
      "metadata": {
        "id": "uLwWZYZMs_Fl"
      },
      "source": [
        ""
      ],
      "execution_count": 38,
      "outputs": []
    }
  ]
}